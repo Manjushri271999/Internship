{
 "cells": [
  {
   "cell_type": "code",
   "execution_count": 6,
   "id": "a2f62694",
   "metadata": {},
   "outputs": [
    {
     "name": "stdout",
     "output_type": "stream",
     "text": [
      "I:have:a:bulldog:He:is:cute:\n"
     ]
    }
   ],
   "source": [
    "import re\n",
    "sen= \"I have a bulldog,He is cute.\"\n",
    "print(re.sub(\"[ \"\".,]\", \":\", sen))\n"
   ]
  },
  {
   "cell_type": "code",
   "execution_count": 7,
   "id": "2def9bcc",
   "metadata": {},
   "outputs": [
    {
     "name": "stdout",
     "output_type": "stream",
     "text": [
      "0     ManjushriPatil\n",
      "1         DS Intern \n",
      "2     two seven nine\n",
      "Name: INFORMATION, dtype: object\n"
     ]
    }
   ],
   "source": [
    "import pandas as pd\n",
    "data = {'INFORMATION': ['Manjushri,Patil!', 'DS Intern ', '279 two, seven:; nine...']}\n",
    "df = pd.DataFrame(data)\n",
    "df['INFORMATION'] = df['INFORMATION'].str.replace('[^a-zA-Z\\s]', '', regex=True)\n",
    "print(df['INFORMATION'])"
   ]
  },
  {
   "cell_type": "code",
   "execution_count": 3,
   "id": "b539985d",
   "metadata": {},
   "outputs": [
    {
     "name": "stdout",
     "output_type": "stream",
     "text": [
      "['Dhule', 'Maharashtra', 'great', 'place', 'live', 'with', 'your', 'dogs']\n"
     ]
    }
   ],
   "source": [
    "import re\n",
    "string=\"Dhule in Maharashtra is a great place to live with your dogs\"\n",
    "print(re.findall(r'\\b\\w{4,}\\b',string))"
   ]
  },
  {
   "cell_type": "code",
   "execution_count": 10,
   "id": "7eddd042",
   "metadata": {},
   "outputs": [
    {
     "name": "stdout",
     "output_type": "stream",
     "text": [
      "['Just', 'being', 'with', 'your', 'pet', 'kind']\n"
     ]
    }
   ],
   "source": [
    "import re\n",
    "def find_words(string):\n",
    "    pattern = re.compile(r'\\b\\w{3,5}\\b')\n",
    "    all = pattern.findall(string)\n",
    "    return all\n",
    "string = \"Just being with your pet is another kind of therapy\"\n",
    "result = find_words (string)\n",
    "print(result)"
   ]
  },
  {
   "cell_type": "code",
   "execution_count": 22,
   "id": "15cc7cb1",
   "metadata": {},
   "outputs": [
    {
     "name": "stdout",
     "output_type": "stream",
     "text": [
      "None\n"
     ]
    }
   ],
   "source": [
    "import re\n",
    "def remove_parentheses(strings):\n",
    "  pattern = re.compile(r\"\\(\\)\")\n",
    "sentence = [\"example (.com)\", \"amazon (.com)\", \"github (.com)\", \"Hello (Data Scientist)\", \"python(Scientist)\"]\n",
    "result = remove_parentheses(sentence)\n",
    "print(result)\n"
   ]
  },
  {
   "cell_type": "code",
   "execution_count": 23,
   "id": "9d4ee678",
   "metadata": {},
   "outputs": [
    {
     "name": "stdout",
     "output_type": "stream",
     "text": [
      "['Python', 'Is', 'A', 'Great', 'Language', 'To', 'Learn']\n"
     ]
    }
   ],
   "source": [
    "import re\n",
    "text = \"PythonIsAGreatLanguageToLearn\"\n",
    "print(re.findall('[A-Z][^A-Z]*', text))"
   ]
  },
  {
   "cell_type": "code",
   "execution_count": 48,
   "id": "ff524a3d",
   "metadata": {},
   "outputs": [
    {
     "name": "stdout",
     "output_type": "stream",
     "text": [
      "Python1 Expression2 Is Important\n"
     ]
    }
   ],
   "source": [
    "import re\n",
    "def capital_words_spaces(str):\n",
    "  return re.sub(r\"(\\w)([A-Z])\", r\"\\1 \\2\", str)\n",
    "\n",
    "print(capital_words_spaces(\"Python1Expression2IsImportant\"))"
   ]
  },
  {
   "cell_type": "code",
   "execution_count": 56,
   "id": "3f408eb4",
   "metadata": {},
   "outputs": [
    {
     "name": "stdout",
     "output_type": "stream",
     "text": [
      "My Name Is Manjushri\n"
     ]
    }
   ],
   "source": [
    "import re\n",
    "string='MyNameIsManjushri'\n",
    "words = re.findall('[A-Z][a-z]*', string)\n",
    "print(' '.join((words)))"
   ]
  },
  {
   "cell_type": "code",
   "execution_count": 58,
   "id": "9b935551",
   "metadata": {},
   "outputs": [
    {
     "name": "stdout",
     "output_type": "stream",
     "text": [
      "Not matched!\n",
      "Found a match!\n"
     ]
    }
   ],
   "source": [
    "import re\n",
    "def text_match(text):\n",
    "        patterns = '^[a-zA-Z0-9_]*$'\n",
    "        if re.search(patterns,  text):\n",
    "                return 'Found a match!'\n",
    "        else:\n",
    "                return('Not matched!')\n",
    "\n",
    "print(text_match(\"The quick brown fox jumps over the lazy dog.\"))\n",
    "print(text_match(\"Brown_Fox\"))\n"
   ]
  },
  {
   "cell_type": "code",
   "execution_count": 62,
   "id": "ff8e73c9",
   "metadata": {},
   "outputs": [
    {
     "name": "stdout",
     "output_type": "stream",
     "text": [
      "True\n",
      "True\n"
     ]
    }
   ],
   "source": [
    "import re\n",
    "def match_num(string):\n",
    "    text = re.compile(r\"^9\")\n",
    "    if text.match(string):\n",
    "        return True\n",
    "    else:\n",
    "        return False\n",
    "print(match_num('92361'))\n",
    "print(match_num('961'))"
   ]
  },
  {
   "cell_type": "code",
   "execution_count": 63,
   "id": "6ed7f787",
   "metadata": {},
   "outputs": [
    {
     "name": "stdout",
     "output_type": "stream",
     "text": [
      "896..764.196\n"
     ]
    }
   ],
   "source": [
    "import re\n",
    "ip = \"896.00.0764.196\"\n",
    "string = re.sub('\\.[0]*', '.', ip)\n",
    "print(string)"
   ]
  },
  {
   "cell_type": "code",
   "execution_count": 75,
   "id": "dadc2d49",
   "metadata": {},
   "outputs": [
    {
     "name": "stdout",
     "output_type": "stream",
     "text": [
      "1999-Dec-27\n"
     ]
    }
   ],
   "source": [
    "string = 'My Birthday is on 1999-Dec-27'\n",
    "date = \"-\".join(string.split()[-1].split(\"-\"))\n",
    "print( date)"
   ]
  },
  {
   "cell_type": "code",
   "execution_count": 78,
   "id": "a72af02b",
   "metadata": {},
   "outputs": [
    {
     "name": "stdout",
     "output_type": "stream",
     "text": [
      "Searching for \"so\" in \"There are so many unemployed people in the world.\" ->\n",
      "Matched!\n",
      "Searching for \"world\" in \"There are so many unemployed people in the world.\" ->\n",
      "Matched!\n",
      "Searching for \"students\" in \"There are so many unemployed people in the world.\" ->\n",
      "Not Matched!\n"
     ]
    }
   ],
   "source": [
    "import re\n",
    "patterns = [ 'so', 'world', 'students' ]\n",
    "sentence = 'There are so many unemployed people in the world.'\n",
    "for pattern in patterns:\n",
    "    print('Searching for \"%s\" in \"%s\" ->' % (pattern, sentence),)\n",
    "    if re.search(pattern,  sentence):\n",
    "        print('Matched!')\n",
    "    else:\n",
    "        print('Not Matched!')"
   ]
  },
  {
   "cell_type": "code",
   "execution_count": 79,
   "id": "bb90c47e",
   "metadata": {},
   "outputs": [
    {
     "name": "stdout",
     "output_type": "stream",
     "text": [
      "Found \"people\" in \"There are so many unemployed people in the world.\" from 29 to 35 \n"
     ]
    }
   ],
   "source": [
    "import re\n",
    "pattern = 'people'\n",
    "text = 'There are so many unemployed people in the world.'\n",
    "match = re.search(pattern, text)\n",
    "s = match.start()\n",
    "e = match.end()\n",
    "print('Found \"%s\" in \"%s\" from %d to %d ' % \\\n",
    "    (match.re.pattern, match.string, s, e))\n"
   ]
  },
  {
   "cell_type": "code",
   "execution_count": 81,
   "id": "603364f7",
   "metadata": {},
   "outputs": [
    {
     "name": "stdout",
     "output_type": "stream",
     "text": [
      "Found \"study\"\n"
     ]
    }
   ],
   "source": [
    "import re\n",
    "text = 'Class, coffee, #study'\n",
    "pattern = 'study'\n",
    "for match in re.findall(pattern, text):\n",
    "    print('Found \"%s\"' % match)"
   ]
  },
  {
   "cell_type": "code",
   "execution_count": 84,
   "id": "c29c6095",
   "metadata": {},
   "outputs": [
    {
     "name": "stdout",
     "output_type": "stream",
     "text": [
      "Found \"<re.Match object; span=(16, 21), match='study'>\"\n",
      "Found \"study\" at 16:21\n"
     ]
    }
   ],
   "source": [
    "import re\n",
    "text = 'Class, coffee, #study'\n",
    "pattern = 'study'\n",
    "for match in re.finditer(pattern, text):\n",
    "    print('Found \"%s\"' % match)\n",
    "    s = match.start()\n",
    "    e = match.end()\n",
    "    print('Found \"%s\" at %d:%d' % (text[s:e], s, e))\n"
   ]
  },
  {
   "cell_type": "code",
   "execution_count": 86,
   "id": "9841b197",
   "metadata": {},
   "outputs": [
    {
     "name": "stdout",
     "output_type": "stream",
     "text": [
      "Original date in YYY-MM-DD Format:  1999-12-27\n",
      "New date in DD-MM-YYYY Format:  27-12-1999\n"
     ]
    }
   ],
   "source": [
    "import re\n",
    "def change_date_format(date):\n",
    "        return re.sub(r'(\\d{4})-(\\d{1,2})-(\\d{1,2})', '\\\\3-\\\\2-\\\\1', date)\n",
    "date1 = \"1999-12-27\"\n",
    "print(\"Original date in YYY-MM-DD Format: \",date1)\n",
    "print(\"New date in DD-MM-YYYY Format: \",change_date_format(date1))\n"
   ]
  },
  {
   "cell_type": "code",
   "execution_count": 88,
   "id": "33f2798e",
   "metadata": {},
   "outputs": [
    {
     "name": "stdout",
     "output_type": "stream",
     "text": [
      "['647.02', '15.15', '21554.02', '1515102.51']\n"
     ]
    }
   ],
   "source": [
    "import re\n",
    "\n",
    "def find_decimal_numbers(string):\n",
    "  pattern = re.compile(r'\\d+\\.\\d{1,2}')\n",
    "  decimal_numbers = re.findall(pattern, string)\n",
    "  return decimal_numbers\n",
    "Numbers = \"647.0215.15.21554.021515102.5154\"\n",
    "output = find_decimal_numbers(Numbers)\n",
    "print(output)\n"
   ]
  },
  {
   "cell_type": "code",
   "execution_count": 89,
   "id": "187f81b1",
   "metadata": {},
   "outputs": [
    {
     "name": "stdout",
     "output_type": "stream",
     "text": [
      "Max_value: 2154\n"
     ]
    }
   ],
   "source": [
    "import re\n",
    "string='No of students-2154,54,454,4'\n",
    "number = re.findall('\\d+', string)\n",
    "number = map(int, number)\n",
    "print(\"Max_value:\",max(number))"
   ]
  },
  {
   "cell_type": "code",
   "execution_count": 91,
   "id": "2bc85c63",
   "metadata": {},
   "outputs": [
    {
     "name": "stdout",
     "output_type": "stream",
     "text": [
      "India Is Really Great Country\n"
     ]
    }
   ],
   "source": [
    "import re\n",
    "def capital_words_spaces(str1):\n",
    "  return re.sub(r\"(\\w)([A-Z])\", r\"\\1 \\2\", str1)\n",
    "\n",
    "print(capital_words_spaces(\"IndiaIsReallyGreatCountry\"))"
   ]
  },
  {
   "cell_type": "code",
   "execution_count": 95,
   "id": "c029ea12",
   "metadata": {},
   "outputs": [
    {
     "name": "stdout",
     "output_type": "stream",
     "text": [
      "Found a match!\n",
      "Not matched!\n"
     ]
    }
   ],
   "source": [
    "import re\n",
    "def text_match(text):\n",
    "        patterns = '[A-Z]+[a-z]+$'\n",
    "        if re.search(patterns, text):\n",
    "                return 'Found a match!'\n",
    "        else:\n",
    "                return('Not matched!')\n",
    "print(text_match(\"AaBbGg\"))\n",
    "print(text_match(\"roberT\"))\n",
    "\n"
   ]
  },
  {
   "cell_type": "code",
   "execution_count": 98,
   "id": "a832c9f6",
   "metadata": {},
   "outputs": [
    {
     "name": "stdout",
     "output_type": "stream",
     "text": [
      "India Usa usa China\n"
     ]
    }
   ],
   "source": [
    "import re\n",
    "\n",
    "def remove_duplicates(sentence):\n",
    "  pattern = r'\\b(\\w+)(\\s+\\1\\b)+'\n",
    "  result = re.sub(pattern, r'\\1', sentence)\n",
    "  return result\n",
    "sentence = \"India Usa usa China China\"\n",
    "output = remove_duplicates(sentence)\n",
    "print(output)"
   ]
  },
  {
   "cell_type": "code",
   "execution_count": 100,
   "id": "0090424a",
   "metadata": {},
   "outputs": [
    {
     "name": "stdout",
     "output_type": "stream",
     "text": [
      " capacity   building  hundred people.\n"
     ]
    }
   ],
   "source": [
    "import re\n",
    "\n",
    "def remove_words(string):\n",
    "  pattern = re.compile(r'\\b\\w{2,4}\\b')\n",
    "  modified_string = re.sub(pattern, '', string)\n",
    "  return modified_string\n",
    "text = \"The capacity of that building is hundred people.\"\n",
    "output = remove_words(text)\n",
    "print(output)"
   ]
  },
  {
   "cell_type": "code",
   "execution_count": null,
   "id": "98df2705",
   "metadata": {},
   "outputs": [],
   "source": []
  }
 ],
 "metadata": {
  "kernelspec": {
   "display_name": "Python 3 (ipykernel)",
   "language": "python",
   "name": "python3"
  },
  "language_info": {
   "codemirror_mode": {
    "name": "ipython",
    "version": 3
   },
   "file_extension": ".py",
   "mimetype": "text/x-python",
   "name": "python",
   "nbconvert_exporter": "python",
   "pygments_lexer": "ipython3",
   "version": "3.10.9"
  }
 },
 "nbformat": 4,
 "nbformat_minor": 5
}
